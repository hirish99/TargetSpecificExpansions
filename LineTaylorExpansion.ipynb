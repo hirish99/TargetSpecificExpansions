{
 "cells": [
  {
   "cell_type": "code",
   "execution_count": 1,
   "id": "af54be7c",
   "metadata": {},
   "outputs": [],
   "source": [
    "import math\n",
    "from abc import abstractmethod\n",
    "import sympy as sp\n",
    "import numpy as np\n",
    "\n",
    "from pytools import single_valued\n",
    "\n",
    "import sumpy.symbolic as sym\n",
    "from sumpy.expansion import (\n",
    "        ExpansionBase,\n",
    "        VolumeTaylorExpansion,\n",
    "        VolumeTaylorExpansionMixin,\n",
    "        LinearPDEConformingVolumeTaylorExpansion)\n",
    "from sumpy.tools import add_to_sac, mi_increment_axis\n",
    "\n",
    "from sumpy.kernel import LaplaceKernel\n",
    "\n",
    "from pytools.obj_array import make_obj_array"
   ]
  },
  {
   "cell_type": "code",
   "execution_count": 2,
   "id": "bd3a8366",
   "metadata": {},
   "outputs": [],
   "source": [
    "class LocalExpansionBase(ExpansionBase):\n",
    "    \"\"\"Base class for local expansions.\n",
    "\n",
    "    .. automethod:: translate_from\n",
    "    \"\"\"\n",
    "\n",
    "    init_arg_names = (\"kernel\", \"order\", \"use_rscale\", \"m2l_translation\")\n",
    "\n",
    "    def __init__(self, kernel, order, use_rscale=None,\n",
    "            m2l_translation=None):\n",
    "        super().__init__(kernel, order, use_rscale)\n",
    "        self.m2l_translation = m2l_translation\n",
    "\n",
    "    def with_kernel(self, kernel):\n",
    "        return type(self)(kernel, self.order, self.use_rscale,\n",
    "            self.m2l_translation)\n",
    "\n",
    "    def update_persistent_hash(self, key_hash, key_builder):\n",
    "        super().update_persistent_hash(key_hash, key_builder)\n",
    "        key_builder.rec(key_hash, self.m2l_translation)\n",
    "\n",
    "    def __eq__(self, other):\n",
    "        return (\n",
    "            type(self) is type(other)\n",
    "            and self.kernel == other.kernel\n",
    "            and self.order == other.order\n",
    "            and self.use_rscale == other.use_rscale\n",
    "            and self.m2l_translation == other.m2l_translation\n",
    "        )\n",
    "\n",
    "    @abstractmethod\n",
    "    def translate_from(self, src_expansion, src_coeff_exprs, src_rscale,\n",
    "            dvec, tgt_rscale, sac=None, m2l_translation_classes_dependent_data=None):\n",
    "        \"\"\"Translate from a multipole or local expansion to a local expansion\n",
    "\n",
    "        :arg src_expansion: The source expansion to translate from.\n",
    "        :arg src_coeff_exprs: An iterable of symbolic expressions representing the\n",
    "                coefficients of the source expansion.\n",
    "        :arg src_rscale: scaling factor for the source expansion.\n",
    "        :arg dvec: symbolic expression for the distance between target and\n",
    "                source centers.\n",
    "        :arg tgt_rscale: scaling factor for the target expansion.\n",
    "        :arg sac: An object of type\n",
    "                :class:`sumpy.assignment_collection.SymbolicAssignmentCollection`\n",
    "                to collect common subexpressions or None.\n",
    "        :arg m2l_translation_classes_dependent_data: An iterable of symbolic\n",
    "                expressions representing the expressions returned by\n",
    "                :func:`~sumpy.expansion.m2l.M2LTranslationBase.translation_classes_dependent_data`.\n",
    "        \"\"\""
   ]
  },
  {
   "cell_type": "code",
   "execution_count": 3,
   "id": "565425ba",
   "metadata": {},
   "outputs": [],
   "source": [
    "class LineTaylorLocalExpansion(LocalExpansionBase):\n",
    "    def get_storage_index(self, k):\n",
    "        return k\n",
    "\n",
    "    def get_coefficient_identifiers(self):\n",
    "        return list(range(self.order+1))\n",
    "\n",
    "    def coefficients_from_source(self, kernel, avec, bvec, rscale, sac=None):\n",
    "        # no point in heeding rscale here--just ignore it\n",
    "        if bvec is None:\n",
    "            raise RuntimeError(\"cannot use line-Taylor expansions in a setting \"\n",
    "                    \"where the center-target vector is not known at coefficient \"\n",
    "                    \"formation\")\n",
    "\n",
    "        tau = sym.Symbol(\"tau\")\n",
    "\n",
    "        #compute localtaylor \n",
    "        #note that avec goes from our source to expansion center\n",
    "        #bvec points from our expansion center to a boundary point\n",
    "        #thus |bvec| = r, the expansion radius\n",
    "        \n",
    "        avec_line = avec + tau*bvec\n",
    "\n",
    "        line_kernel = kernel.get_expression(avec_line)\n",
    "\n",
    "        from sumpy.symbolic import USE_SYMENGINE\n",
    "\n",
    "        if USE_SYMENGINE:\n",
    "            from sumpy.derivative_taker import ExprDerivativeTaker\n",
    "            deriv_taker = ExprDerivativeTaker(line_kernel, (tau,), sac=sac, rscale=1)\n",
    "\n",
    "            return [kernel.postprocess_at_source(\n",
    "                        deriv_taker.diff(i), avec).subs(tau, 0)\n",
    "                    for i in self.get_coefficient_identifiers()]\n",
    "        else:\n",
    "            # Workaround for sympy. The automatic distribution after\n",
    "            # single-variable diff makes the expressions very large\n",
    "            # (https://github.com/sympy/sympy/issues/4596), so avoid doing\n",
    "            # single variable diff.\n",
    "            #\n",
    "            # See also https://gitlab.tiker.net/inducer/pytential/merge_requests/12\n",
    "\n",
    "            return [kernel.postprocess_at_source(\n",
    "                            line_kernel.diff(tau, i), avec)\n",
    "                    .subs(tau, 0)\n",
    "                    for i in self.get_coefficient_identifiers()]\n",
    "\n",
    "    def evaluate(self, tgt_kernel, coeffs, bvec, rscale, sac=None):\n",
    "        # no point in heeding rscale here--just ignore it\n",
    "        return sym.Add(*(\n",
    "                coeffs[self.get_storage_index(i)] / math.factorial(i)\n",
    "                for i in self.get_coefficient_identifiers()))\n",
    "\n",
    "    def translate_from(self, src_expansion, src_coeff_exprs, src_rscale,\n",
    "            dvec, tgt_rscale, sac=None, m2l_translation_classes_dependent_data=None):\n",
    "        raise NotImplementedError"
   ]
  },
  {
   "cell_type": "code",
   "execution_count": 4,
   "id": "5f6c4254",
   "metadata": {},
   "outputs": [
    {
     "data": {
      "text/plain": [
       "'\\nlaplaceKernel = LaplaceKernel(2)\\norderOfExpansion = 4\\nlineTaylor = LineTaylorLocalExpansion(laplaceKernel, orderOfExpansion)\\nfrom pytools.obj_array import make_obj_array\\ndef make_sympy_vec(name, n):\\n    return make_obj_array([sp.Symbol(f\"{name}{i}\") for i in range(n)])\\n    \\nlineTaylor.coefficients_from_source(laplaceKernel, make_sympy_vec(\"a\", 2), make_sympy_vec(\"b\", 2), 1)\\n'"
      ]
     },
     "execution_count": 4,
     "metadata": {},
     "output_type": "execute_result"
    }
   ],
   "source": [
    "#Testing Out LineTaylor\n",
    "'''\n",
    "laplaceKernel = LaplaceKernel(2)\n",
    "orderOfExpansion = 4\n",
    "lineTaylor = LineTaylorLocalExpansion(laplaceKernel, orderOfExpansion)\n",
    "from pytools.obj_array import make_obj_array\n",
    "def make_sympy_vec(name, n):\n",
    "    return make_obj_array([sp.Symbol(f\"{name}{i}\") for i in range(n)])\n",
    "    \n",
    "lineTaylor.coefficients_from_source(laplaceKernel, make_sympy_vec(\"a\", 2), make_sympy_vec(\"b\", 2), 1)\n",
    "'''"
   ]
  },
  {
   "cell_type": "code",
   "execution_count": 5,
   "id": "a9bee499",
   "metadata": {},
   "outputs": [
    {
     "data": {
      "text/plain": [
       "4"
      ]
     },
     "execution_count": 5,
     "metadata": {},
     "output_type": "execute_result"
    }
   ],
   "source": [
    "#Testing Out FlopCounter\n",
    "from pymbolic.mapper.flop_counter import FlopCounter\n",
    "import pymbolic as pmbl\n",
    "\n",
    "x = pmbl.var(\"x\")\n",
    "u = (x+1+2)**5\n",
    "diff = pmbl.differentiate(u, 'x')\n",
    "\n",
    "#Create Instance of FlopCounter\n",
    "counter = FlopCounter()\n",
    "\n",
    "#Count Flops for Evaluating u\n",
    "counter(u)\n",
    "#Count Flops for Differentiation\n",
    "counter(diff)"
   ]
  },
  {
   "cell_type": "code",
   "execution_count": 6,
   "id": "07e36fae",
   "metadata": {},
   "outputs": [
    {
     "data": {
      "text/plain": [
       "\"It looks like pymbolic can't deal with logs? Therefore I will move onto 3D\""
      ]
     },
     "execution_count": 6,
     "metadata": {},
     "output_type": "execute_result"
    }
   ],
   "source": [
    "#Get Expression in Sympy - I don't know how to do the following in pymbolic: compute logs/norms of vectors\n",
    "#import sympy\n",
    "\n",
    "#tau_sympy = sympy.symbols(\"t\")\n",
    "#avec = np.array([2,0])\n",
    "#bvec = np.array([2,0])\n",
    "#avec_line = avec_line = avec + tau_sympy*bvec\n",
    "\n",
    "'''It looks like pymbolic can't deal with logs? Therefore I will move onto 3D'''\n",
    "#kernel_line_expression = sympy.log((avec_line[0]**2 + avec_line[0]**2)**(0.5))\n",
    "\n",
    "#converter = pmbl.interop.sympy.SympyToPymbolicMapper()\n",
    "#kernel_line_expression_pymbolic = converter(kernel_line_expression)\n",
    "#pmbl.differentiate(kernel_line_expression_pymbolic, 't')"
   ]
  },
  {
   "cell_type": "code",
   "execution_count": 8,
   "id": "93ecc7c4",
   "metadata": {},
   "outputs": [],
   "source": [
    "#3D Pymbolic Flop Computation\n",
    "\n",
    "\n",
    "#The setup is as follows, source is located at (-1, 0)\n",
    "#Target located at (0,1)\n",
    "#Expansion disk is of radius expansion_radius away from (0, 1)\n",
    "\n",
    "#Compute kernel_line_expression in sympy first\n",
    "import sympy\n",
    "tau_sympy = sympy.symbols(\"t\")\n",
    "expansion_radius = 0.5\n",
    "#avec = np.array([2-expansion_radius,0,0])\n",
    "\n",
    "#Makes an arbitrary vector along the x-axis in 3D\n",
    "def make_sympy_vec_on_axis_3D(name):\n",
    "    return make_obj_array([sp.Symbol(f\"{name}{0}\"), 0, 0])\n",
    "\n",
    "#Makes arbitrary vector in nD\n",
    "def make_sympy_vec(name, n):\n",
    "    return make_obj_array([sp.Symbol(f\"{name}{i}\") for i in range(n)])\n",
    "\n",
    "#Recall that avec points from source to center\n",
    "avec = make_sympy_vec(\"a\", 3)\n",
    "#Recall that bvec points from center to target. We can axis align it without loss of generality.\n",
    "bvec = make_sympy_vec_on_axis_3D(\"b\")\n",
    "\n",
    "avec_line = avec_line = avec + tau_sympy*bvec\n",
    "kernel_line_expression = (avec_line[0]**2 + avec_line[1]**2 + avec_line[2]**2)**(-0.5)\n",
    "\n",
    "coeff0 = kernel_line_expression\n",
    "\n",
    "#Convert sympy expression into pymbolic\n",
    "converter = pmbl.interop.sympy.SympyToPymbolicMapper()\n",
    "\n",
    "#Compute n derivatives using sympy then convert to pymbolic\n",
    "def sympy_derivative_then_convert(coeff0, n):\n",
    "    return converter(sympy.diff(coeff0, 't', n))\n",
    "\n",
    "'''\n",
    "#Compute higher order derivatives with respect to tau\n",
    "def recursive_derivative(coeff, n):\n",
    "    if n == 0:\n",
    "        return coeff\n",
    "    else:\n",
    "        return recursive_derivative(pmbl.differentiate(coeff, \"t\"), n-1)\n",
    "'''\n",
    "\n",
    "#flops_at_order is the number of flops to take i derivatives of coeff0 with respect to tau\n",
    "flops_at_order = []\n",
    "flops = []\n",
    "\n",
    "#compute flops for 10 derivatives\n",
    "N = 10\n",
    "\n",
    "# \"nicer\" alternative:\n",
    "flops_at_order = [\n",
    "    counter(sympy_derivative_then_convert(coeff0, i))\n",
    "    for i in range(N)]\n",
    "    \n",
    "flops_at_order_np = np.array(flops_at_order)\n",
    "\n",
    "#naively assume that the flops for a order n-taylor expansion is proportional to computing the previous\n",
    "#n-derivatives\n",
    "#i.e. sum elements up to index i in flops_at_order_np\n",
    "for i in range(N):\n",
    "    flops.append(np.sum(flops_at_order_np[:i]))\n",
    "\n",
    "flops_np = np.array(flops)\n",
    "order = np.array([i for i in range(N)])"
   ]
  },
  {
   "cell_type": "code",
   "execution_count": 9,
   "id": "6676919f",
   "metadata": {},
   "outputs": [
    {
     "data": {
      "image/png": "[encoded data removed]",
      "text/plain": [
       "<Figure size 640x480 with 1 Axes>"
      ]
     },
     "metadata": {},
     "output_type": "display_data"
    }
   ],
   "source": [
    "#Plot Order vs Flops To Compute Line Taylor\n",
    "import matplotlib.pyplot as plt\n",
    "plt.loglog(order, flops_np)\n",
    "plt.xlabel(\"Order of Line Taylor\")\n",
    "plt.ylabel(\"Approximate Flops to Compute Line Taylor\")\n",
    "plt.title(\"Log-Log Plot\")\n",
    "plt.show()"
   ]
  },
  {
   "cell_type": "code",
   "execution_count": 10,
   "id": "1aec3092",
   "metadata": {},
   "outputs": [
    {
     "data": {
      "image/png": "[encoded data removed]",
      "text/plain": [
       "<Figure size 640x480 with 1 Axes>"
      ]
     },
     "metadata": {},
     "output_type": "display_data"
    }
   ],
   "source": [
    "#Sanity Check - Does this Result Make Sense?\n",
    "#It seems that the complexity is beyond a power law? Perhaps even factorial?\n",
    "#Factorial makes sense. Is there anyway to check this?\n",
    "#Semilogyaxis\n",
    "plt.semilogy(order, flops_np)\n",
    "plt.xlabel(\"Order of Line Taylor\")\n",
    "plt.ylabel(\"Approximate Flops to Compute Line Taylor\")\n",
    "plt.title(\"SemiLogY Plot\")\n",
    "plt.show()"
   ]
  },
  {
   "cell_type": "code",
   "execution_count": null,
   "id": "5911e75a",
   "metadata": {},
   "outputs": [],
   "source": []
  }
 ],
 "metadata": {
  "kernelspec": {
   "display_name": "Python 3 (ipykernel)",
   "language": "python",
   "name": "python3"
  },
  "language_info": {
   "codemirror_mode": {
    "name": "ipython",
    "version": 3
   },
   "file_extension": ".py",
   "mimetype": "text/x-python",
   "name": "python",
   "nbconvert_exporter": "python",
   "pygments_lexer": "ipython3",
   "version": "3.9.16"
  }
 },
 "nbformat": 4,
 "nbformat_minor": 5
}
