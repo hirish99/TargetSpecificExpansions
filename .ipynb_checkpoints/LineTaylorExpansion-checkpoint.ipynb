{
 "cells": [
  {
   "cell_type": "code",
   "execution_count": 1,
   "id": "af54be7c",
   "metadata": {},
   "outputs": [],
   "source": [
    "import math\n",
    "from abc import abstractmethod\n",
    "\n",
    "import numpy as np\n",
    "\n",
    "from pytools import single_valued\n",
    "\n",
    "import sumpy.symbolic as sym\n",
    "from sumpy.expansion import (\n",
    "        ExpansionBase,\n",
    "        VolumeTaylorExpansion,\n",
    "        VolumeTaylorExpansionMixin,\n",
    "        LinearPDEConformingVolumeTaylorExpansion)\n",
    "from sumpy.tools import add_to_sac, mi_increment_axis\n",
    "\n",
    "from sumpy.kernel import LaplaceKernel"
   ]
  },
  {
   "cell_type": "code",
   "execution_count": 2,
   "id": "bd3a8366",
   "metadata": {},
   "outputs": [],
   "source": [
    "class LocalExpansionBase(ExpansionBase):\n",
    "    \"\"\"Base class for local expansions.\n",
    "\n",
    "    .. automethod:: translate_from\n",
    "    \"\"\"\n",
    "\n",
    "    init_arg_names = (\"kernel\", \"order\", \"use_rscale\", \"m2l_translation\")\n",
    "\n",
    "    def __init__(self, kernel, order, use_rscale=None,\n",
    "            m2l_translation=None):\n",
    "        super().__init__(kernel, order, use_rscale)\n",
    "        self.m2l_translation = m2l_translation\n",
    "\n",
    "    def with_kernel(self, kernel):\n",
    "        return type(self)(kernel, self.order, self.use_rscale,\n",
    "            self.m2l_translation)\n",
    "\n",
    "    def update_persistent_hash(self, key_hash, key_builder):\n",
    "        super().update_persistent_hash(key_hash, key_builder)\n",
    "        key_builder.rec(key_hash, self.m2l_translation)\n",
    "\n",
    "    def __eq__(self, other):\n",
    "        return (\n",
    "            type(self) is type(other)\n",
    "            and self.kernel == other.kernel\n",
    "            and self.order == other.order\n",
    "            and self.use_rscale == other.use_rscale\n",
    "            and self.m2l_translation == other.m2l_translation\n",
    "        )\n",
    "\n",
    "    @abstractmethod\n",
    "    def translate_from(self, src_expansion, src_coeff_exprs, src_rscale,\n",
    "            dvec, tgt_rscale, sac=None, m2l_translation_classes_dependent_data=None):\n",
    "        \"\"\"Translate from a multipole or local expansion to a local expansion\n",
    "\n",
    "        :arg src_expansion: The source expansion to translate from.\n",
    "        :arg src_coeff_exprs: An iterable of symbolic expressions representing the\n",
    "                coefficients of the source expansion.\n",
    "        :arg src_rscale: scaling factor for the source expansion.\n",
    "        :arg dvec: symbolic expression for the distance between target and\n",
    "                source centers.\n",
    "        :arg tgt_rscale: scaling factor for the target expansion.\n",
    "        :arg sac: An object of type\n",
    "                :class:`sumpy.assignment_collection.SymbolicAssignmentCollection`\n",
    "                to collect common subexpressions or None.\n",
    "        :arg m2l_translation_classes_dependent_data: An iterable of symbolic\n",
    "                expressions representing the expressions returned by\n",
    "                :func:`~sumpy.expansion.m2l.M2LTranslationBase.translation_classes_dependent_data`.\n",
    "        \"\"\""
   ]
  },
  {
   "cell_type": "code",
   "execution_count": 3,
   "id": "565425ba",
   "metadata": {},
   "outputs": [],
   "source": [
    "class LineTaylorLocalExpansion(LocalExpansionBase):\n",
    "    def get_storage_index(self, k):\n",
    "        return k\n",
    "\n",
    "    def get_coefficient_identifiers(self):\n",
    "        return list(range(self.order+1))\n",
    "\n",
    "    def coefficients_from_source(self, kernel, avec, bvec, rscale, sac=None):\n",
    "        # no point in heeding rscale here--just ignore it\n",
    "        if bvec is None:\n",
    "            raise RuntimeError(\"cannot use line-Taylor expansions in a setting \"\n",
    "                    \"where the center-target vector is not known at coefficient \"\n",
    "                    \"formation\")\n",
    "\n",
    "        tau = sym.Symbol(\"tau\")\n",
    "\n",
    "        #compute localtaylor centered at a_vec, b_vec away\n",
    "        avec_line = avec + tau*bvec\n",
    "\n",
    "        line_kernel = kernel.get_expression(avec_line)\n",
    "\n",
    "        from sumpy.symbolic import USE_SYMENGINE\n",
    "\n",
    "        if USE_SYMENGINE:\n",
    "            from sumpy.derivative_taker import ExprDerivativeTaker\n",
    "            deriv_taker = ExprDerivativeTaker(line_kernel, (tau,), sac=sac, rscale=1)\n",
    "\n",
    "            return [kernel.postprocess_at_source(\n",
    "                        deriv_taker.diff(i), avec).subs(tau, 0)\n",
    "                    for i in self.get_coefficient_identifiers()]\n",
    "        else:\n",
    "            # Workaround for sympy. The automatic distribution after\n",
    "            # single-variable diff makes the expressions very large\n",
    "            # (https://github.com/sympy/sympy/issues/4596), so avoid doing\n",
    "            # single variable diff.\n",
    "            #\n",
    "            # See also https://gitlab.tiker.net/inducer/pytential/merge_requests/12\n",
    "\n",
    "            return [kernel.postprocess_at_source(\n",
    "                            line_kernel.diff(tau, i), avec)\n",
    "                    .subs(tau, 0)\n",
    "                    for i in self.get_coefficient_identifiers()]\n",
    "\n",
    "    def evaluate(self, tgt_kernel, coeffs, bvec, rscale, sac=None):\n",
    "        # no point in heeding rscale here--just ignore it\n",
    "        return sym.Add(*(\n",
    "                coeffs[self.get_storage_index(i)] / math.factorial(i)\n",
    "                for i in self.get_coefficient_identifiers()))\n",
    "\n",
    "    def translate_from(self, src_expansion, src_coeff_exprs, src_rscale,\n",
    "            dvec, tgt_rscale, sac=None, m2l_translation_classes_dependent_data=None):\n",
    "        raise NotImplementedError"
   ]
  },
  {
   "cell_type": "code",
   "execution_count": 4,
   "id": "5f6c4254",
   "metadata": {},
   "outputs": [
    {
     "data": {
      "text/plain": [
       "[log(2), 3/2, -9/4, 27/4, -243/8]"
      ]
     },
     "execution_count": 4,
     "metadata": {},
     "output_type": "execute_result"
    }
   ],
   "source": [
    "#Testing Out LineTaylor\n",
    "laplaceKernel = LaplaceKernel(2)\n",
    "orderOfExpansion = 4\n",
    "lineTaylor = LineTaylorLocalExpansion(laplaceKernel, orderOfExpansion)\n",
    "lineTaylor.coefficients_from_source(laplaceKernel, np.array([2,0]), np.array([3,0]), 1)"
   ]
  },
  {
   "cell_type": "code",
   "execution_count": 5,
   "id": "a9bee499",
   "metadata": {},
   "outputs": [],
   "source": [
    "#Testing Out FlopCounter\n",
    "from pymbolic.mapper.flop_counter import FlopCounter\n",
    "import pymbolic as pmbl\n",
    "\n",
    "x = pmbl.var(\"x\")\n",
    "u = (x+1+2)**5\n",
    "diff = pmbl.differentiate(u, 'x')"
   ]
  },
  {
   "cell_type": "code",
   "execution_count": 6,
   "id": "35249a64",
   "metadata": {},
   "outputs": [],
   "source": [
    "#Create Instance of FlopCounter\n",
    "counter = FlopCounter()"
   ]
  },
  {
   "cell_type": "code",
   "execution_count": 7,
   "id": "8e1b5ab0",
   "metadata": {},
   "outputs": [
    {
     "data": {
      "text/plain": [
       "4"
      ]
     },
     "execution_count": 7,
     "metadata": {},
     "output_type": "execute_result"
    }
   ],
   "source": [
    "#Count Flops for Evaluating u\n",
    "counter(u)\n",
    "#Count Flops for Differentiation\n",
    "counter(diff)"
   ]
  },
  {
   "cell_type": "code",
   "execution_count": null,
   "id": "07e36fae",
   "metadata": {},
   "outputs": [],
   "source": []
  }
 ],
 "metadata": {
  "kernelspec": {
   "display_name": "Python 3 (ipykernel)",
   "language": "python",
   "name": "python3"
  },
  "language_info": {
   "codemirror_mode": {
    "name": "ipython",
    "version": 3
   },
   "file_extension": ".py",
   "mimetype": "text/x-python",
   "name": "python",
   "nbconvert_exporter": "python",
   "pygments_lexer": "ipython3",
   "version": "3.9.16"
  }
 },
 "nbformat": 4,
 "nbformat_minor": 5
}
