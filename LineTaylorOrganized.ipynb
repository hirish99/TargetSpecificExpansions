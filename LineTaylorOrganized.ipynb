{
 "cells": [
  {
   "cell_type": "code",
   "execution_count": 1,
   "id": "af54be7c",
   "metadata": {},
   "outputs": [],
   "source": [
    "import math\n",
    "from abc import abstractmethod\n",
    "import sympy as sp\n",
    "import numpy as np\n",
    "\n",
    "from pytools import single_valued\n",
    "\n",
    "import sumpy.symbolic as sym\n",
    "from sumpy.expansion import (\n",
    "        ExpansionBase,\n",
    "        VolumeTaylorExpansion,\n",
    "        VolumeTaylorExpansionMixin,\n",
    "        LinearPDEConformingVolumeTaylorExpansion)\n",
    "from sumpy.tools import add_to_sac, mi_increment_axis\n",
    "\n",
    "from sumpy.kernel import LaplaceKernel\n",
    "\n",
    "from pytools.obj_array import make_obj_array"
   ]
  },
  {
   "cell_type": "code",
   "execution_count": 2,
   "id": "bd3a8366",
   "metadata": {},
   "outputs": [],
   "source": [
    "'''\n",
    "1.) QBX SOURCE CODE\n",
    "'''\n",
    "class LocalExpansionBase(ExpansionBase):\n",
    "    \"\"\"Base class for local expansions.\n",
    "\n",
    "    .. automethod:: translate_from\n",
    "    \"\"\"\n",
    "\n",
    "    init_arg_names = (\"kernel\", \"order\", \"use_rscale\", \"m2l_translation\")\n",
    "\n",
    "    def __init__(self, kernel, order, use_rscale=None,\n",
    "            m2l_translation=None):\n",
    "        super().__init__(kernel, order, use_rscale)\n",
    "        self.m2l_translation = m2l_translation\n",
    "\n",
    "    def with_kernel(self, kernel):\n",
    "        return type(self)(kernel, self.order, self.use_rscale,\n",
    "            self.m2l_translation)\n",
    "\n",
    "    def update_persistent_hash(self, key_hash, key_builder):\n",
    "        super().update_persistent_hash(key_hash, key_builder)\n",
    "        key_builder.rec(key_hash, self.m2l_translation)\n",
    "\n",
    "    def __eq__(self, other):\n",
    "        return (\n",
    "            type(self) is type(other)\n",
    "            and self.kernel == other.kernel\n",
    "            and self.order == other.order\n",
    "            and self.use_rscale == other.use_rscale\n",
    "            and self.m2l_translation == other.m2l_translation\n",
    "        )\n",
    "\n",
    "    @abstractmethod\n",
    "    def translate_from(self, src_expansion, src_coeff_exprs, src_rscale,\n",
    "            dvec, tgt_rscale, sac=None, m2l_translation_classes_dependent_data=None):\n",
    "        \"\"\"Translate from a multipole or local expansion to a local expansion\n",
    "\n",
    "        :arg src_expansion: The source expansion to translate from.\n",
    "        :arg src_coeff_exprs: An iterable of symbolic expressions representing the\n",
    "                coefficients of the source expansion.\n",
    "        :arg src_rscale: scaling factor for the source expansion.\n",
    "        :arg dvec: symbolic expression for the distance between target and\n",
    "                source centers.\n",
    "        :arg tgt_rscale: scaling factor for the target expansion.\n",
    "        :arg sac: An object of type\n",
    "                :class:`sumpy.assignment_collection.SymbolicAssignmentCollection`\n",
    "                to collect common subexpressions or None.\n",
    "        :arg m2l_translation_classes_dependent_data: An iterable of symbolic\n",
    "                expressions representing the expressions returned by\n",
    "                :func:`~sumpy.expansion.m2l.M2LTranslationBase.translation_classes_dependent_data`.\n",
    "        \"\"\"\n",
    "        \n",
    "class LineTaylorLocalExpansion(LocalExpansionBase):\n",
    "    def get_storage_index(self, k):\n",
    "        return k\n",
    "\n",
    "    def get_coefficient_identifiers(self):\n",
    "        return list(range(self.order+1))\n",
    "\n",
    "    def coefficients_from_source(self, kernel, avec, bvec, rscale, sac=None):\n",
    "        # no point in heeding rscale here--just ignore it\n",
    "        if bvec is None:\n",
    "            raise RuntimeError(\"cannot use line-Taylor expansions in a setting \"\n",
    "                    \"where the center-target vector is not known at coefficient \"\n",
    "                    \"formation\")\n",
    "\n",
    "        tau = sym.Symbol(\"tau\")\n",
    "\n",
    "        #compute localtaylor \n",
    "        #note that avec goes from our source to expansion center\n",
    "        #bvec points from our expansion center to a boundary point\n",
    "        #thus |bvec| = r, the expansion radius\n",
    "        \n",
    "        avec_line = avec + tau*bvec\n",
    "\n",
    "        line_kernel = kernel.get_expression(avec_line)\n",
    "\n",
    "        from sumpy.symbolic import USE_SYMENGINE\n",
    "\n",
    "        if USE_SYMENGINE:\n",
    "            from sumpy.derivative_taker import ExprDerivativeTaker\n",
    "            deriv_taker = ExprDerivativeTaker(line_kernel, (tau,), sac=sac, rscale=1)\n",
    "\n",
    "            return [kernel.postprocess_at_source(\n",
    "                        deriv_taker.diff(i), avec).subs(tau, 0)\n",
    "                    for i in self.get_coefficient_identifiers()]\n",
    "        else:\n",
    "            # Workaround for sympy. The automatic distribution after\n",
    "            # single-variable diff makes the expressions very large\n",
    "            # (https://github.com/sympy/sympy/issues/4596), so avoid doing\n",
    "            # single variable diff.\n",
    "            #\n",
    "            # See also https://gitlab.tiker.net/inducer/pytential/merge_requests/12\n",
    "\n",
    "            return [kernel.postprocess_at_source(\n",
    "                            line_kernel.diff(tau, i), avec)\n",
    "                    .subs(tau, 0)\n",
    "                    for i in self.get_coefficient_identifiers()]\n",
    "\n",
    "    def evaluate(self, tgt_kernel, coeffs, bvec, rscale, sac=None):\n",
    "        # no point in heeding rscale here--just ignore it\n",
    "        return sym.Add(*(\n",
    "                coeffs[self.get_storage_index(i)] / math.factorial(i)\n",
    "                for i in self.get_coefficient_identifiers()))\n",
    "\n",
    "    def translate_from(self, src_expansion, src_coeff_exprs, src_rscale,\n",
    "            dvec, tgt_rscale, sac=None, m2l_translation_classes_dependent_data=None):\n",
    "        raise NotImplementedError"
   ]
  },
  {
   "cell_type": "code",
   "execution_count": 3,
   "id": "16d91ecd",
   "metadata": {},
   "outputs": [],
   "source": [
    "'''\n",
    "2.) Sympy/Pymbolic Utility Code\n",
    "\n",
    "1. make_sympy_vec_on_axis_3D\n",
    "- takes in a name and outputs a 3-dimensional sympy vector on the x-axis\n",
    "\n",
    "2. make_sympy_vec\n",
    "- takes in a name and outputs a n-dimensional sympy vector\n",
    "'''\n",
    "from pymbolic.mapper.flop_counter import FlopCounter\n",
    "import pymbolic as pmbl\n",
    "import sympy\n",
    "\n",
    "tau_sympy = sympy.symbols(\"t\")\n",
    "expansion_radius = 0.5\n",
    "#avec = np.array([2-expansion_radius,0,0])\n",
    "\n",
    "counter = FlopCounter()\n",
    "\n",
    "#Makes an arbitrary vector along the x-axis in 3D\n",
    "def make_sympy_vec_on_axis_3D(name):\n",
    "    return make_obj_array([sp.Symbol(f\"{name}{0}\"), 0, 0])\n",
    "\n",
    "#Makes arbitrary vector in nD\n",
    "def make_sympy_vec(name, n):\n",
    "    return make_obj_array([sp.Symbol(f\"{name}{i}\") for i in range(n)])"
   ]
  },
  {
   "cell_type": "code",
   "execution_count": 4,
   "id": "a9bee499",
   "metadata": {},
   "outputs": [],
   "source": [
    "'''\n",
    "3. ) Line Taylor Expansions Code\n",
    "\n",
    "1. compute_target_specific_taylor\n",
    "- computes the nth coefficient of our line taylor expansion as a sympy expression\n",
    "2. sympy_derivative_then_convert\n",
    "- compute the nth coefficient of our line taylor expansion in pymbolic\n",
    "'''\n",
    "tau_sympy = sympy.symbols(\"t\")\n",
    "expansion_radius = 0.5\n",
    "\n",
    "#Recall that avec points from source to center\n",
    "avec = make_sympy_vec(\"a\", 3)\n",
    "#Recall that bvec points from center to target. We can axis align it without loss of generality.\n",
    "bvec = make_sympy_vec_on_axis_3D(\"b\")\n",
    "\n",
    "avec_line = avec + tau_sympy*bvec\n",
    "\n",
    "#Sympy doesn't like half powers\n",
    "kernel_line_expression = 1/sympy.sqrt(avec_line[0]**2 + avec_line[1]**2 + avec_line[2]**2)\n",
    "\n",
    "coeff0 = kernel_line_expression\n",
    "\n",
    "#Convert sympy expression into pymbolic\n",
    "converter = pmbl.interop.sympy.SympyToPymbolicMapper()\n",
    "\n",
    "#Compute n derivatives using sympy then convert to pymbolic\n",
    "def compute_target_specific_taylor(n):\n",
    "    return sympy.diff(coeff0, 't', n)\n",
    "\n",
    "def sympy_derivative_then_convert(coeff0, n):\n",
    "    return converter(sympy.diff(coeff0, 't', n))"
   ]
  },
  {
   "cell_type": "code",
   "execution_count": 5,
   "id": "93ecc7c4",
   "metadata": {},
   "outputs": [
    {
     "data": {
      "image/png": "[encoded data removed]",
      "text/plain": [
       "<Figure size 640x480 with 1 Axes>"
      ]
     },
     "metadata": {},
     "output_type": "display_data"
    },
    {
     "name": "stdout",
     "output_type": "stream",
     "text": [
      "Power Fit: 1.9268617311757164\n"
     ]
    }
   ],
   "source": [
    "'''\n",
    "3. ) Plot Line Taylor Flops\n",
    "'''\n",
    "#flops_at_order is the number of flops to take i derivatives of coeff0 with respect to tau\n",
    "flops_at_order = []\n",
    "flops = []\n",
    "\n",
    "#compute flops for 10 derivatives\n",
    "N = 40\n",
    "\n",
    "# \"nicer\" alternative:\n",
    "flops_at_order = [\n",
    "    counter(sympy_derivative_then_convert(coeff0, i))\n",
    "    for i in range(N)]\n",
    "    \n",
    "flops_at_order_np = np.array(flops_at_order)\n",
    "\n",
    "#naively assume that the flops for a order n-taylor expansion is proportional to computing the previous\n",
    "#n-derivatives\n",
    "#i.e. sum elements up to index i in flops_at_order_np\n",
    "for i in range(N):\n",
    "    flops.append(np.sum(flops_at_order_np[:i]))\n",
    "\n",
    "flops_np = np.array(flops)\n",
    "order = np.array([i for i in range(N)])\n",
    "\n",
    "#Plot Order vs Flops To Compute Line Taylor\n",
    "import matplotlib.pyplot as plt\n",
    "plt.loglog(order, flops_np)\n",
    "plt.xlabel(\"Order of Line Taylor\")\n",
    "plt.ylabel(\"Approximate Flops to Compute Line Taylor\")\n",
    "plt.title(\"Log-Log Plot\")\n",
    "plt.show()\n",
    "\n",
    "import scipy\n",
    "print(\"Power Fit:\", scipy.optimize.curve_fit(lambda t,a,b: a*t**b,  order,  flops_np,p0=(1, 1))[0][1])"
   ]
  },
  {
   "cell_type": "code",
   "execution_count": 6,
   "id": "5911e75a",
   "metadata": {},
   "outputs": [],
   "source": [
    "'''\n",
    "3. ) Wala-Andreas Target Specific Code\n",
    "\n",
    "1. compute_target_specific\n",
    "- computes the nth coefficient of our line taylor expansion as a sympy expression\n",
    "-NOTE: I Haven't made the expression exact just proportional to the flops it takes to compute\n",
    "2. compute_flops_at_order(n)\n",
    "- compute the nth coefficient of our line taylor expansion and then computes the flops using pymbolic\n",
    "'''\n",
    "\n",
    "###Wala/Andreas Target Specific Expansion\n",
    "##Step 1: Make arbitrary source/target variables\n",
    "### PLACE CENTER AT ORIGIN  - EASY TO PERFORM A TRANSLATION TO GET HERE\n",
    "source = make_sympy_vec(\"s\", 3)\n",
    "target = make_sympy_vec(\"t\", 3)\n",
    "center = make_obj_array([0, 0, 0])\n",
    "\n",
    "#Compute Relevant Quantities\n",
    "stcvec = center - source\n",
    "stc_distance = (stcvec[0]**2 + stcvec[1]**2 + stcvec[2]**2)**0.5\n",
    "ttcvec = center - target\n",
    "ttc_distance = (ttcvec[0]**2 + ttcvec[1]**2 + ttcvec[2]**2)**0.5\n",
    "\n",
    "#c_vec is source-target\n",
    "c_vec = source - target\n",
    "c = (c_vec[0]**2 + c_vec[1]**2 + c_vec[2]**2)**0.5\n",
    "\n",
    "#Use Law of Cosines a^2 + b^2 - c^2 = 2abcos(gamma), where \n",
    "cos_gamma = (stc_distance**2 + ttc_distance**2 - c**2)/(2*stc_distance*ttc_distance)\n",
    "\n",
    "#Compute the nth order piece of a target-specific expansion in sympy\n",
    "#My expression is missing a pi \n",
    "#I am going to pretend like we are computing the first legendre polynomial to take into account the flops\n",
    "#for cos_gamma, and not worry about the O(1) recurrence relation for computing legendre polynomials\n",
    "def compute_target_specific(n):\n",
    "    return (ttc_distance**n/stc_distance**(n+1))*sympy.legendre(1, cos_gamma)\n",
    "\n",
    "### Compute flops at each order n by translating to pymbolic\n",
    "def compute_flops_at_order(n):\n",
    "    return counter(converter(compute_target_specific(n)))"
   ]
  },
  {
   "cell_type": "code",
   "execution_count": 7,
   "id": "0d9d1057",
   "metadata": {},
   "outputs": [
    {
     "data": {
      "image/png": "[encoded data removed]",
      "text/plain": [
       "<Figure size 640x480 with 1 Axes>"
      ]
     },
     "metadata": {},
     "output_type": "display_data"
    },
    {
     "name": "stdout",
     "output_type": "stream",
     "text": [
      "Power Fit WA: 1.009068203985075\n"
     ]
    }
   ],
   "source": [
    "#Plot Flops\n",
    "#wa = wala/andreas\n",
    "#compute flops for 10 derivatives\n",
    "flops_at_order_wa = []\n",
    "flops_wa = []\n",
    "\n",
    "N_wa = N\n",
    "\n",
    "# \"nicer\" alternative:\n",
    "flops_at_order_wa = [\n",
    "    compute_flops_at_order(i)\n",
    "    for i in range(N)]\n",
    "    \n",
    "flops_at_order_np_wa = np.array(flops_at_order_wa)\n",
    "\n",
    "#naively assume that the flops for a order n-taylor expansion is proportional to computing the previous\n",
    "#n-derivatives\n",
    "#i.e. sum elements up to index i in flops_at_order_np\n",
    "for i in range(N):\n",
    "    flops_wa.append(np.sum(flops_at_order_np_wa[:i]))\n",
    "\n",
    "flops_np_wa = np.array(flops_wa)\n",
    "order_wa = np.array([i for i in range(N)])\n",
    "\n",
    "#Plot Order vs Flops To Compute Wala/Andreas T.S. Expansion\n",
    "import matplotlib.pyplot as plt\n",
    "plt.loglog(order_wa, flops_np_wa, label='wa')\n",
    "plt.loglog(order, flops_np,label='taylor')\n",
    "plt.legend()\n",
    "plt.xlabel(\"Order of Line Taylor\")\n",
    "plt.ylabel(\"Approximate Flops to Compute Line Taylor\")\n",
    "plt.title(\"Log-Log Plot\")\n",
    "plt.show()\n",
    "\n",
    "import scipy\n",
    "print(\"Power Fit WA:\", scipy.optimize.curve_fit(lambda t,a,b: a*t**b,  order_wa,  flops_np_wa,p0=(1, 1))[0][1])"
   ]
  },
  {
   "cell_type": "code",
   "execution_count": 8,
   "id": "7477ba4b",
   "metadata": {},
   "outputs": [
    {
     "data": {
      "text/latex": [
       "$\\displaystyle \\frac{1}{\\sqrt{a_{1}^{2} + a_{2}^{2} + \\left(a_{0} + b_{0} t\\right)^{2}}}$"
      ],
      "text/plain": [
       "1/sqrt(a1**2 + a2**2 + (a0 + b0*t)**2)"
      ]
     },
     "execution_count": 8,
     "metadata": {},
     "output_type": "execute_result"
    }
   ],
   "source": [
    "'''\n",
    "4. ) HOW CAN WE MAKE LINE TAYLOR COMPETITIVE?\n",
    "https://arxiv.org/pdf/2305.17867.pdf\n",
    "4.4.2 Laplace Recurrence Relations\n",
    "'''\n",
    "#Recall that we placed our source at an arbitrary -a_vec\n",
    "#We placed our target at (b_0,0,0)\n",
    "\n",
    "compute_target_specific_taylor(0)"
   ]
  },
  {
   "cell_type": "code",
   "execution_count": 9,
   "id": "8f57f5c3",
   "metadata": {},
   "outputs": [
    {
     "data": {
      "text/latex": [
       "$\\displaystyle - \\frac{b_{0} \\left(a_{0} + b_{0} t\\right)}{\\left(a_{1}^{2} + a_{2}^{2} + \\left(a_{0} + b_{0} t\\right)^{2}\\right)^{\\frac{3}{2}}}$"
      ],
      "text/plain": [
       "-b0*(a0 + b0*t)/(a1**2 + a2**2 + (a0 + b0*t)**2)**(3/2)"
      ]
     },
     "execution_count": 9,
     "metadata": {},
     "output_type": "execute_result"
    }
   ],
   "source": [
    "compute_target_specific_taylor(1)"
   ]
  },
  {
   "cell_type": "code",
   "execution_count": 10,
   "id": "5049574f",
   "metadata": {},
   "outputs": [
    {
     "data": {
      "text/latex": [
       "$\\displaystyle \\frac{b_{0}^{2} \\cdot \\left(\\frac{3 \\left(a_{0} + b_{0} t\\right)^{2}}{a_{1}^{2} + a_{2}^{2} + \\left(a_{0} + b_{0} t\\right)^{2}} - 1\\right)}{\\left(a_{1}^{2} + a_{2}^{2} + \\left(a_{0} + b_{0} t\\right)^{2}\\right)^{\\frac{3}{2}}}$"
      ],
      "text/plain": [
       "b0**2*(3*(a0 + b0*t)**2/(a1**2 + a2**2 + (a0 + b0*t)**2) - 1)/(a1**2 + a2**2 + (a0 + b0*t)**2)**(3/2)"
      ]
     },
     "execution_count": 10,
     "metadata": {},
     "output_type": "execute_result"
    }
   ],
   "source": [
    "compute_target_specific_taylor(2)"
   ]
  },
  {
   "cell_type": "code",
   "execution_count": 11,
   "id": "49811821",
   "metadata": {},
   "outputs": [
    {
     "data": {
      "text/latex": [
       "$\\displaystyle \\frac{3 b_{0}^{3} \\left(a_{0} + b_{0} t\\right) \\left(- \\frac{5 \\left(a_{0} + b_{0} t\\right)^{2}}{a_{1}^{2} + a_{2}^{2} + \\left(a_{0} + b_{0} t\\right)^{2}} + 3\\right)}{\\left(a_{1}^{2} + a_{2}^{2} + \\left(a_{0} + b_{0} t\\right)^{2}\\right)^{\\frac{5}{2}}}$"
      ],
      "text/plain": [
       "3*b0**3*(a0 + b0*t)*(-5*(a0 + b0*t)**2/(a1**2 + a2**2 + (a0 + b0*t)**2) + 3)/(a1**2 + a2**2 + (a0 + b0*t)**2)**(5/2)"
      ]
     },
     "execution_count": 11,
     "metadata": {},
     "output_type": "execute_result"
    }
   ],
   "source": [
    "compute_target_specific_taylor(3)"
   ]
  },
  {
   "cell_type": "code",
   "execution_count": 12,
   "id": "3e4f564b",
   "metadata": {},
   "outputs": [
    {
     "data": {
      "text/latex": [
       "$\\displaystyle \\frac{3 b_{0}^{4} \\cdot \\left(\\frac{35 \\left(a_{0} + b_{0} t\\right)^{4}}{\\left(a_{1}^{2} + a_{2}^{2} + \\left(a_{0} + b_{0} t\\right)^{2}\\right)^{2}} - \\frac{30 \\left(a_{0} + b_{0} t\\right)^{2}}{a_{1}^{2} + a_{2}^{2} + \\left(a_{0} + b_{0} t\\right)^{2}} + 3\\right)}{\\left(a_{1}^{2} + a_{2}^{2} + \\left(a_{0} + b_{0} t\\right)^{2}\\right)^{\\frac{5}{2}}}$"
      ],
      "text/plain": [
       "3*b0**4*(35*(a0 + b0*t)**4/(a1**2 + a2**2 + (a0 + b0*t)**2)**2 - 30*(a0 + b0*t)**2/(a1**2 + a2**2 + (a0 + b0*t)**2) + 3)/(a1**2 + a2**2 + (a0 + b0*t)**2)**(5/2)"
      ]
     },
     "execution_count": 12,
     "metadata": {},
     "output_type": "execute_result"
    }
   ],
   "source": [
    "compute_target_specific_taylor(4)"
   ]
  },
  {
   "cell_type": "code",
   "execution_count": 13,
   "id": "7c301554",
   "metadata": {},
   "outputs": [
    {
     "data": {
      "text/latex": [
       "$\\displaystyle \\frac{15 b_{0}^{5} \\left(a_{0} + b_{0} t\\right) \\left(- \\frac{63 \\left(a_{0} + b_{0} t\\right)^{4}}{\\left(a_{1}^{2} + a_{2}^{2} + \\left(a_{0} + b_{0} t\\right)^{2}\\right)^{2}} + \\frac{70 \\left(a_{0} + b_{0} t\\right)^{2}}{a_{1}^{2} + a_{2}^{2} + \\left(a_{0} + b_{0} t\\right)^{2}} - 15\\right)}{\\left(a_{1}^{2} + a_{2}^{2} + \\left(a_{0} + b_{0} t\\right)^{2}\\right)^{\\frac{7}{2}}}$"
      ],
      "text/plain": [
       "15*b0**5*(a0 + b0*t)*(-63*(a0 + b0*t)**4/(a1**2 + a2**2 + (a0 + b0*t)**2)**2 + 70*(a0 + b0*t)**2/(a1**2 + a2**2 + (a0 + b0*t)**2) - 15)/(a1**2 + a2**2 + (a0 + b0*t)**2)**(7/2)"
      ]
     },
     "execution_count": 13,
     "metadata": {},
     "output_type": "execute_result"
    }
   ],
   "source": [
    "compute_target_specific_taylor(5)"
   ]
  },
  {
   "cell_type": "code",
   "execution_count": 14,
   "id": "c16086ce",
   "metadata": {},
   "outputs": [
    {
     "data": {
      "text/latex": [
       "$\\displaystyle \\frac{45 b_{0}^{6} \\cdot \\left(\\frac{231 \\left(a_{0} + b_{0} t\\right)^{6}}{\\left(a_{1}^{2} + a_{2}^{2} + \\left(a_{0} + b_{0} t\\right)^{2}\\right)^{3}} - \\frac{315 \\left(a_{0} + b_{0} t\\right)^{4}}{\\left(a_{1}^{2} + a_{2}^{2} + \\left(a_{0} + b_{0} t\\right)^{2}\\right)^{2}} + \\frac{105 \\left(a_{0} + b_{0} t\\right)^{2}}{a_{1}^{2} + a_{2}^{2} + \\left(a_{0} + b_{0} t\\right)^{2}} - 5\\right)}{\\left(a_{1}^{2} + a_{2}^{2} + \\left(a_{0} + b_{0} t\\right)^{2}\\right)^{\\frac{7}{2}}}$"
      ],
      "text/plain": [
       "45*b0**6*(231*(a0 + b0*t)**6/(a1**2 + a2**2 + (a0 + b0*t)**2)**3 - 315*(a0 + b0*t)**4/(a1**2 + a2**2 + (a0 + b0*t)**2)**2 + 105*(a0 + b0*t)**2/(a1**2 + a2**2 + (a0 + b0*t)**2) - 5)/(a1**2 + a2**2 + (a0 + b0*t)**2)**(7/2)"
      ]
     },
     "execution_count": 14,
     "metadata": {},
     "output_type": "execute_result"
    }
   ],
   "source": [
    "compute_target_specific_taylor(6)"
   ]
  },
  {
   "cell_type": "code",
   "execution_count": null,
   "id": "25838060",
   "metadata": {},
   "outputs": [],
   "source": []
  }
 ],
 "metadata": {
  "kernelspec": {
   "display_name": "Python 3 (ipykernel)",
   "language": "python",
   "name": "python3"
  },
  "language_info": {
   "codemirror_mode": {
    "name": "ipython",
    "version": 3
   },
   "file_extension": ".py",
   "mimetype": "text/x-python",
   "name": "python",
   "nbconvert_exporter": "python",
   "pygments_lexer": "ipython3",
   "version": "3.9.16"
  }
 },
 "nbformat": 4,
 "nbformat_minor": 5
}
